{
 "cells": [
  {
   "cell_type": "code",
   "execution_count": 2,
   "id": "ef8711e3",
   "metadata": {},
   "outputs": [],
   "source": [
    "#Import these\n",
    "import qrcode\n",
    "import image"
   ]
  },
  {
   "cell_type": "code",
   "execution_count": 3,
   "id": "0813864a",
   "metadata": {},
   "outputs": [],
   "source": [
    "#Version is the version of Qr code, Box size is the size of the box in which Qr will appear, Border is the width of the border of QR\n",
    "qr = qrcode.QRCode(\n",
    "    version = 15,\n",
    "    box_size = 10,\n",
    "    border = 5\n",
    ")"
   ]
  },
  {
   "cell_type": "code",
   "execution_count": 4,
   "id": "2dc9369c",
   "metadata": {},
   "outputs": [],
   "source": [
    "#Add the link of which you want to generate QR in data\n",
    "data = \"linkedin.com/in/ankit-tripathi-b3273b1a1\""
   ]
  },
  {
   "cell_type": "code",
   "execution_count": 5,
   "id": "4fa2bc72",
   "metadata": {},
   "outputs": [],
   "source": [
    "qr.add_data(data)\n",
    "qr.make(fit = True)\n",
    "img = qr.make_image(fill = \"black\", back_color = \"white\")\n",
    "img.save(\"instagram.png\")"
   ]
  }
 ],
 "metadata": {
  "kernelspec": {
   "display_name": "Python 3",
   "language": "python",
   "name": "python3"
  },
  "language_info": {
   "codemirror_mode": {
    "name": "ipython",
    "version": 3
   },
   "file_extension": ".py",
   "mimetype": "text/x-python",
   "name": "python",
   "nbconvert_exporter": "python",
   "pygments_lexer": "ipython3",
   "version": "3.8.8"
  }
 },
 "nbformat": 4,
 "nbformat_minor": 5
}
